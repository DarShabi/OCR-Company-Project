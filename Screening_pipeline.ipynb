{
  "nbformat": 4,
  "nbformat_minor": 0,
  "metadata": {
    "colab": {
      "provenance": [],
      "authorship_tag": "ABX9TyNCREP+fqjFXYWkXGH4mWzb",
      "include_colab_link": true
    },
    "kernelspec": {
      "name": "python3",
      "display_name": "Python 3"
    },
    "language_info": {
      "name": "python"
    }
  },
  "cells": [
    {
      "cell_type": "markdown",
      "metadata": {
        "id": "view-in-github",
        "colab_type": "text"
      },
      "source": [
        "<a href=\"https://colab.research.google.com/github/DarShabi/OCR-Project/blob/main/Screening_pipeline.ipynb\" target=\"_parent\"><img src=\"https://colab.research.google.com/assets/colab-badge.svg\" alt=\"Open In Colab\"/></a>"
      ]
    },
    {
      "cell_type": "markdown",
      "source": [
        "## Installs and Imports  \n"
      ],
      "metadata": {
        "id": "CxRwr7CdLfan"
      }
    },
    {
      "cell_type": "code",
      "execution_count": 1,
      "metadata": {
        "colab": {
          "base_uri": "https://localhost:8080/"
        },
        "id": "XFPW-GyW3cl_",
        "outputId": "6cb51ba0-423b-4e08-850b-66adfac79aca"
      },
      "outputs": [
        {
          "output_type": "stream",
          "name": "stdout",
          "text": [
            "Reading package lists...\n",
            "Building dependency tree...\n",
            "Reading state information...\n",
            "tesseract-ocr is already the newest version (4.1.1-2.1build1).\n",
            "0 upgraded, 0 newly installed, 0 to remove and 16 not upgraded.\n"
          ]
        }
      ],
      "source": [
        "!pip install -q ImageHash;\n",
        "!apt-get install -q tesseract-ocr;\n",
        "!pip install -q pytesseract;\n",
        "!pip install -q requests;\n",
        "!pip install -q transformers;"
      ]
    },
    {
      "cell_type": "code",
      "source": [
        "from PIL import Image\n",
        "from PIL import ImageEnhance, ImageOps\n",
        "import matplotlib.pyplot as plt\n",
        "import pandas as pd\n",
        "import numpy as np\n",
        "import os\n",
        "import requests\n",
        "import glob\n",
        "import json\n",
        "from collections import Counter, defaultdict\n",
        "import re\n",
        "import matplotlib.image as mpimg\n",
        "import seaborn as sns\n",
        "import cv2\n",
        "import imagehash\n",
        "import pytesseract\n",
        "from sklearn.model_selection import train_test_split\n",
        "import cv2\n",
        "import re\n",
        "import urllib.request\n",
        "import time\n",
        "from sklearn.metrics import confusion_matrix\n",
        "from sklearn.metrics import accuracy_score, precision_score, recall_score, f1_score, roc_curve, auc\n",
        "import itertools"
      ],
      "metadata": {
        "id": "94isFv1Z3c9W"
      },
      "execution_count": 2,
      "outputs": []
    },
    {
      "cell_type": "code",
      "source": [
        "from google.colab import drive\n",
        "drive.mount('/content/drive')"
      ],
      "metadata": {
        "colab": {
          "base_uri": "https://localhost:8080/"
        },
        "id": "SElFLNYO3dAU",
        "outputId": "1ca4c890-e0e4-49a9-c7aa-fbb8c814dd7e"
      },
      "execution_count": 3,
      "outputs": [
        {
          "output_type": "stream",
          "name": "stdout",
          "text": [
            "Drive already mounted at /content/drive; to attempt to forcibly remount, call drive.mount(\"/content/drive\", force_remount=True).\n"
          ]
        }
      ]
    },
    {
      "cell_type": "markdown",
      "source": [
        "# Laoding the data"
      ],
      "metadata": {
        "id": "Pk-cvWdQ6kbP"
      }
    },
    {
      "cell_type": "code",
      "source": [
        "# Define the paths to the saved CSV files\n",
        "train_path = '/content/drive/MyDrive/OCR_Project/train.csv'\n",
        "val_path = '/content/drive/MyDrive/OCR_Project/val.csv'\n",
        "test_path = '/content/drive/MyDrive/OCR_Project/test.csv'\n",
        "na_data_path = '/content/drive/MyDrive/OCR_Project/N_A_images.csv'"
      ],
      "metadata": {
        "id": "lp1fIpuN3dFc"
      },
      "execution_count": 4,
      "outputs": []
    },
    {
      "cell_type": "code",
      "source": [
        "# Read the datasets into DataFrames\n",
        "train_df = pd.read_csv(train_path)\n",
        "val_df = pd.read_csv(val_path)\n",
        "test_df = pd.read_csv(test_path)\n",
        "NA_df = pd.read_csv(na_data_path)"
      ],
      "metadata": {
        "id": "KqxWFSU66i1f"
      },
      "execution_count": 5,
      "outputs": []
    },
    {
      "cell_type": "markdown",
      "source": [
        "# Building the pipeline:"
      ],
      "metadata": {
        "id": "EMyIsN8l7VqW"
      }
    },
    {
      "cell_type": "markdown",
      "source": [
        "## Dealing with images the matches the images from N/A_df"
      ],
      "metadata": {
        "id": "ig9PEvDCB6IW"
      }
    },
    {
      "cell_type": "code",
      "source": [
        "def fill_text_nulls(df, text='NO TEXT'):\n",
        "    \"\"\"\n",
        "    Fills the null values in the 'text' column of the given DataFrame with the string \"NO TEXT\".\n",
        "\n",
        "    Parameters:\n",
        "    - df: The input DataFrame.\n",
        "\n",
        "    Returns:\n",
        "    - DataFrame: The DataFrame with null values in the 'text' column filled.\n",
        "    \"\"\"\n",
        "    df['text'].fillna(text, inplace=True)\n",
        "    return df"
      ],
      "metadata": {
        "id": "5x7ovxT_7epg"
      },
      "execution_count": 6,
      "outputs": []
    },
    {
      "cell_type": "code",
      "source": [
        "def match_hashes_with_precomputed(df, na_df):\n",
        "    \"\"\"\n",
        "    Matches the images in the given DataFrame with the precomputed hashes in na_df\n",
        "    and sets the 'prediction' and 'text' accordingly.\n",
        "\n",
        "    Parameters:\n",
        "    - df: DataFrame containing file paths to the images.\n",
        "    - na_df: DataFrame with precomputed hashes and associated texts.\n",
        "\n",
        "    Returns:\n",
        "    - DataFrame: The updated DataFrame with 'prediction' and 'text' set based on hash matches.\n",
        "    \"\"\"\n",
        "    hash_to_text = dict(zip(na_df['hash'], na_df['text']))\n",
        "\n",
        "    for index, row in df.iterrows():\n",
        "        image_path = row['file_path']\n",
        "        with Image.open(image_path) as img:\n",
        "            if img.mode == 'P':\n",
        "                img = img.convert('RGBA')\n",
        "            h = str(imagehash.dhash(img))\n",
        "            if h in hash_to_text:\n",
        "                df.at[index, 'prediction'] = hash_to_text[h]\n",
        "                df.at[index, 'text'] = hash_to_text[h]  # Setting the 'text' column\n",
        "            else:\n",
        "                df.at[index, 'prediction'] = 'TBD'\n",
        "    return df\n"
      ],
      "metadata": {
        "id": "5Imu491TA0bw"
      },
      "execution_count": 7,
      "outputs": []
    },
    {
      "cell_type": "markdown",
      "source": [
        "## Dealing with one-color images"
      ],
      "metadata": {
        "id": "i545yBN7CI_9"
      }
    },
    {
      "cell_type": "code",
      "source": [
        "def is_one_color_image(image_path):\n",
        "    \"\"\"\n",
        "    Determines if a given image consists of a single color.\n",
        "\n",
        "    Parameters:\n",
        "    - image_path (str): Path to the image file.\n",
        "\n",
        "    Returns:\n",
        "    - bool: True if the image consists of a single color, False otherwise.\n",
        "    \"\"\"\n",
        "    with Image.open(image_path) as img:\n",
        "        if img.mode == 'P':\n",
        "            img = img.convert('RGBA')\n",
        "        image = img.convert(\"RGB\")\n",
        "\n",
        "    pixels = np.array(image)\n",
        "    first_pixel = pixels[0, 0]\n",
        "\n",
        "    return (pixels == first_pixel).all()\n",
        "\n",
        "\n",
        "def handle_one_color_images(df, text='NO TEXT'):\n",
        "    \"\"\"\n",
        "    Identifies and handles one-color images in the given DataFrame.\n",
        "\n",
        "    Parameters:\n",
        "    - df (DataFrame): A DataFrame containing file paths to the images.\n",
        "\n",
        "    Returns:\n",
        "    - DataFrame: Updated DataFrame with 'prediction' set to the given text for one-color images.\n",
        "    \"\"\"\n",
        "    for index, row in df.iterrows():\n",
        "        # Only process if prediction is 'TBD'\n",
        "        if row['prediction'] == 'TBD':\n",
        "            image_path = row['file_path']\n",
        "            if is_one_color_image(image_path):\n",
        "                df.at[index, 'prediction'] = text\n",
        "    return df"
      ],
      "metadata": {
        "id": "JZ6A_mcPCHM4"
      },
      "execution_count": 8,
      "outputs": []
    },
    {
      "cell_type": "markdown",
      "source": [
        "## Dealing with no-text images explicitly"
      ],
      "metadata": {
        "id": "ZRvsoNCADF41"
      }
    },
    {
      "cell_type": "code",
      "source": [
        "def tesseract_text_recognition(df, text_threshold=8, text='NO TEXT'):\n",
        "    \"\"\"\n",
        "    Recognizes text from images in the given DataFrame using Tesseract. If the recognized text is below a threshold,\n",
        "    the function sets the 'prediction' for that image to the given text.\n",
        "\n",
        "    Parameters:\n",
        "    - df (DataFrame): A DataFrame containing file paths to the images.\n",
        "    - text_threshold (int): The minimum number of characters for an image to not be considered as having \"NO TEXT\".\n",
        "    - text (str): The prediction text to set for images with minimal recognized text.\n",
        "\n",
        "    Returns:\n",
        "    - DataFrame: Updated DataFrame with 'prediction' set based on recognized text.\n",
        "    \"\"\"\n",
        "\n",
        "    def enhanced_ocr(image_path):\n",
        "        \"\"\"\n",
        "        Pre-process and recognize text from an image using Tesseract with enhanced configurations.\n",
        "        \"\"\"\n",
        "        # Pre-processing\n",
        "        img = Image.open(image_path)\n",
        "        if img.mode == 'P':\n",
        "            img = img.convert('RGBA')\n",
        "        img = img.convert(\"L\")  # Convert to grayscale\n",
        "        img = ImageOps.autocontrast(img)           # Improve contrast\n",
        "        enhancer = ImageEnhance.Sharpness(img)\n",
        "        img = enhancer.enhance(2)                  # Sharpen the image\n",
        "\n",
        "        # Try OCR\n",
        "        text = pytesseract.image_to_string(img, config='--psm 11')\n",
        "        return text\n",
        "\n",
        "    for index, row in df.iterrows():\n",
        "        # Only process if prediction is 'TBD'\n",
        "        if row['prediction'] == 'TBD':\n",
        "            image_path = row['file_path']\n",
        "            recognized_text = enhanced_ocr(image_path)\n",
        "\n",
        "            if len(recognized_text) < text_threshold:\n",
        "                df.at[index, 'prediction'] = text\n",
        "            else:\n",
        "                df.at[index, 'prediction'] = 'TBD'\n",
        "    return df"
      ],
      "metadata": {
        "id": "TCBdZw3YDMBW"
      },
      "execution_count": 9,
      "outputs": []
    },
    {
      "cell_type": "markdown",
      "source": [
        "## Evaluation"
      ],
      "metadata": {
        "id": "XMj3qpV5I627"
      }
    },
    {
      "cell_type": "markdown",
      "source": [
        "**True Positive (TP):** Images correctly identified to continue to OCR.  \n",
        "Condition:\n",
        "$$\\text{text} \\neq \\text{'NO TEXT'}$$\n",
        "$$\\text{AND}$$\n",
        "$$\\text{prediction} = \\text{'TBD'}$$\n",
        "\n",
        "**False Positive (FP):** Images incorrectly identified to continue to OCR.  \n",
        "Condition:\n",
        "$$\\text{text} \\neq \\text{'NO TEXT'}$$\n",
        "$$\\text{AND}$$\n",
        "$$\\text{prediction} \\neq \\text{'TBD'}$$\n",
        "\n",
        "**True Negative (TN):** Images correctly identified to not continue to OCR.  \n",
        "Condition:\n",
        "$$\\text{text} = \\text{prediction}$$\n",
        "\n",
        "**False Negative (FN):** Images incorrectly identified to not continue to OCR.  \n",
        "Condition:\n",
        "$$\\text{text} \\neq \\text{prediction}$$\n",
        "$$\\text{AND}$$\n",
        "$$\\text{prediction} = \\text{'NO TEXT'}$$\n",
        "\n"
      ],
      "metadata": {
        "id": "ivRZjkwJYMpG"
      }
    },
    {
      "cell_type": "code",
      "source": [
        "def calculate_metrics(df):\n",
        "    \"\"\"\n",
        "    Calculate the performance metrics based on the given DataFrame.\n",
        "\n",
        "    Parameters:\n",
        "    - df (DataFrame): The DataFrame containing true labels and predictions.\n",
        "\n",
        "    Returns:\n",
        "    - TP, TN, FP, FN, precision, recall, accuracy, f1\n",
        "    \"\"\"\n",
        "    TP = len(df[(df['prediction'] == 'NO TEXT') & (df['text'] == 'NO TEXT')])\n",
        "    TN = len(df[(df['prediction'] == 'TBD') & (df['text'] != 'NO TEXT')])\n",
        "    FN = len(df[(df['prediction'] == 'NO TEXT') & (df['text'] != 'NO TEXT')])\n",
        "    FP = len(df[(df['prediction'] != 'NO TEXT') & (df['text'] == 'NO TEXT')])\n",
        "\n",
        "    precision = TP / (TP + FP)\n",
        "    recall = TP / (TP + FN)\n",
        "    accuracy = (TP + TN) / (TP + TN + FP + FN)\n",
        "    f1 = 2 * (precision * recall) / (precision + recall)\n",
        "\n",
        "    return TP, TN, FP, FN, precision, recall, accuracy, f1\n",
        "\n",
        "def plot_confusion_matrix(df):\n",
        "    \"\"\"\n",
        "    Plot the confusion matrix based on the given DataFrame.\n",
        "\n",
        "    Parameters:\n",
        "    - df (DataFrame): The DataFrame containing true labels and predictions.\n",
        "    \"\"\"\n",
        "    TP, TN, FP, FN, precision, recall, accuracy, f1 = calculate_metrics(df)\n",
        "    cm = np.array([[TP, FP], [FN, TN]])\n",
        "\n",
        "    plt.imshow(cm, interpolation='nearest', cmap=plt.cm.Blues)\n",
        "    plt.title('Confusion Matrix')\n",
        "    plt.colorbar()\n",
        "    tick_marks = np.arange(2)\n",
        "    plt.xticks(tick_marks, [\"Predicted No OCR\", \"Predicted OCR\"], rotation=45)\n",
        "    plt.yticks(tick_marks, [\"Actual No OCR\", \"Actual OCR\"])\n",
        "\n",
        "    thresh = cm.max() / 2\n",
        "    for i, j in itertools.product(range(cm.shape[0]), range(cm.shape[1])):\n",
        "        plt.text(j, i, cm[i, j], horizontalalignment=\"center\", color=\"white\" if cm[i, j] > thresh else \"black\")\n",
        "\n",
        "    plt.tight_layout()\n",
        "    plt.ylabel('True label')\n",
        "    plt.xlabel('Predicted label')\n",
        "    plt.show()\n",
        "    # Calculate the percentages\n",
        "    total_images = TP + TN + FP + FN\n",
        "    percentage_screened_out = (TP / total_images) * 100\n",
        "    percentage_mistakes = (FN / total_images) * 100\n",
        "\n",
        "\n",
        "    print(f\"Precision: {precision:.4f}\")\n",
        "    print(f\"Recall: {recall:.4f}\")\n",
        "    print(f\"Accuracy: {accuracy:.4f}\")\n",
        "    print(f\"F1 Score: {f1:.4f}\")\n",
        "    print(f\"Percentage of Correctly Screened Out Images: {percentage_screened_out:.2f}%\")\n",
        "    print(f\"Percentage of Mistakes (False Negatives): {percentage_mistakes:.2f}%\")\n"
      ],
      "metadata": {
        "id": "v5_oLwkNI6_Q"
      },
      "execution_count": 10,
      "outputs": []
    },
    {
      "cell_type": "markdown",
      "source": [
        "# PIPELINE"
      ],
      "metadata": {
        "id": "o-hCA4ZDJ3b5"
      }
    },
    {
      "cell_type": "code",
      "source": [
        "class OCRPipeline:\n",
        "    def __init__(self, data, na_df):\n",
        "        self.data = data\n",
        "        if 'prediction' not in self.data.columns:\n",
        "          self.data['prediction'] = 'TBD'\n",
        "        self.na_df = na_df\n",
        "        self.screened_out_counts = {\n",
        "            'initial': len(data[data['prediction'] == 'TBD']),\n",
        "            'after_hashes': None,\n",
        "            'after_one_color': None,\n",
        "            'after_tesseract': None\n",
        "        }\n",
        "\n",
        "    def fill_text_nulls(self):\n",
        "        self.data = fill_text_nulls(self.data)\n",
        "\n",
        "    def match_hashes(self):\n",
        "        self.data = match_hashes_with_precomputed(self.data, self.na_df)\n",
        "        self.screened_out_counts['after_hashes'] = len(self.data[self.data['prediction'] == 'TBD'])\n",
        "\n",
        "    def handle_one_color(self):\n",
        "        self.data = handle_one_color_images(self.data)\n",
        "        self.screened_out_counts['after_one_color'] = len(self.data[self.data['prediction'] == 'TBD'])\n",
        "\n",
        "    def tesseract_recognition(self):\n",
        "        self.data = tesseract_text_recognition(self.data)\n",
        "        self.screened_out_counts['after_tesseract'] = len(self.data[self.data['prediction'] == 'TBD'])\n",
        "\n",
        "\n",
        "    def execute(self):\n",
        "        \"\"\"\n",
        "        Executes the entire pipeline on the data.\n",
        "        \"\"\"\n",
        "        self.fill_text_nulls()\n",
        "        self.match_hashes()\n",
        "        self.handle_one_color()\n",
        "        self.tesseract_recognition()\n",
        "\n",
        "    def get_screened_out_stats(self):\n",
        "        screened_out_stats = {\n",
        "            'hashes_screened_out': self.screened_out_counts['initial'] - self.screened_out_counts['after_hashes'],\n",
        "            'one_color_screened_out': self.screened_out_counts['after_hashes'] - self.screened_out_counts['after_one_color'],\n",
        "            'tesseract_screened_out': self.screened_out_counts['after_one_color'] - self.screened_out_counts['after_tesseract']\n",
        "        }\n",
        "        return screened_out_stats\n"
      ],
      "metadata": {
        "id": "hxbwgXazJ5ws"
      },
      "execution_count": 11,
      "outputs": []
    },
    {
      "cell_type": "code",
      "source": [
        "pipeline = OCRPipeline(test_df, NA_df)\n",
        "pipeline.execute()\n",
        "screened_out_stats = pipeline.get_screened_out_stats()\n",
        "print(screened_out_stats)\n"
      ],
      "metadata": {
        "colab": {
          "base_uri": "https://localhost:8080/"
        },
        "id": "esJJRbfsJ_e_",
        "outputId": "60ab685e-9dfa-4f8b-e1f5-5f9b93f58c0d"
      },
      "execution_count": 12,
      "outputs": [
        {
          "output_type": "stream",
          "name": "stdout",
          "text": [
            "{'hashes_screened_out': 79, 'one_color_screened_out': 0, 'tesseract_screened_out': 147}\n"
          ]
        }
      ]
    },
    {
      "cell_type": "code",
      "source": [
        "plot_confusion_matrix(pipeline.data)"
      ],
      "metadata": {
        "colab": {
          "base_uri": "https://localhost:8080/",
          "height": 608
        },
        "id": "P7DMUoGKLc1G",
        "outputId": "97e5f702-45cd-4d24-ec30-f6aafd1e317b"
      },
      "execution_count": 13,
      "outputs": [
        {
          "output_type": "display_data",
          "data": {
            "text/plain": [
              "<Figure size 640x480 with 2 Axes>"
            ],
            "image/png": "[encoded data removed]"
          },
          "metadata": {}
        },
        {
          "output_type": "stream",
          "name": "stdout",
          "text": [
            "Precision: 0.6312\n",
            "Recall: 0.7876\n",
            "Accuracy: 0.8439\n",
            "F1 Score: 0.7008\n",
            "Percentage of Correctly Screened Out Images: 18.28%\n",
            "Percentage of Mistakes (False Negatives): 4.93%\n"
          ]
        }
      ]
    }
  ]
}