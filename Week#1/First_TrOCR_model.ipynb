{
  "nbformat": 4,
  "nbformat_minor": 0,
  "metadata": {
    "colab": {
      "provenance": [],
      "authorship_tag": "ABX9TyNR40UDTL2VvFbpTULVUjwT",
      "include_colab_link": true
    },
    "kernelspec": {
      "name": "python3",
      "display_name": "Python 3"
    },
    "language_info": {
      "name": "python"
    }
  },
  "cells": [
    {
      "cell_type": "markdown",
      "metadata": {
        "id": "view-in-github",
        "colab_type": "text"
      },
      "source": [
        "<a href=\"https://colab.research.google.com/github/DarShabi/OCR-Company-Project/blob/main/First_TrOCR_model.ipynb\" target=\"_parent\"><img src=\"https://colab.research.google.com/assets/colab-badge.svg\" alt=\"Open In Colab\"/></a>"
      ]
    },
    {
      "cell_type": "code",
      "execution_count": null,
      "metadata": {
        "id": "VEsURUWLyWXw"
      },
      "outputs": [],
      "source": [
        "import os\n",
        "import glob\n",
        "from PIL import Image\n",
        "from transformers import TrOCRProcessor, VisionEncoderDecoderModel"
      ]
    },
    {
      "cell_type": "code",
      "source": [
        "processor = TrOCRProcessor.from_pretrained(\"microsoft/trocr-base-handwritten\")\n",
        "model = VisionEncoderDecoderModel.from_pretrained(\"microsoft/trocr-base-handwritten\")\n",
        "\n",
        "folder = \"/path/to/image/folder\"\n",
        "\n",
        "img_paths = glob.glob(os.path.join(folder, '*'))\n",
        "\n",
        "results = {}\n",
        "\n",
        "for img_path in img_paths:\n",
        "    image = Image.open(img_path).convert(\"RGB\")\n",
        "    pixel_values = processor(image, return_tensors=\"pt\").pixel_values\n",
        "    generated_ids = model.generate(pixel_values)\n",
        "    generated_text = processor.batch_decode(generated_ids, skip_special_tokens=True)[0]\n",
        "    results[img_path] = generated_text\n",
        "\n",
        "# Now 'results' is a dictionary where the keys are image paths and the values are the corresponding OCR results\n"
      ],
      "metadata": {
        "id": "nwN75muXyz3I"
      },
      "execution_count": null,
      "outputs": []
    }
  ]
}