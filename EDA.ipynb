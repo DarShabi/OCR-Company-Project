{
  "nbformat": 4,
  "nbformat_minor": 0,
  "metadata": {
    "colab": {
      "provenance": []
    },
    "kernelspec": {
      "name": "python3",
      "display_name": "Python 3"
    },
    "language_info": {
      "name": "python"
    }
  },
  "cells": [
    {
      "cell_type": "code",
      "execution_count": null,
      "metadata": {
        "id": "YWBsefiZuaEG"
      },
      "outputs": [],
      "source": [
        "from PIL import Image\n",
        "import matplotlib.pyplot as plt\n",
        "import pandas as pd\n",
        "import numpy as np\n",
        "import os\n",
        "import glob"
      ]
    },
    {
      "cell_type": "markdown",
      "source": [
        "hi"
      ],
      "metadata": {
        "id": "dPbiVih3xF8A"
      }
    },
    {
      "cell_type": "code",
      "source": [
        "def image_properties(img_paths):\n",
        "    \"\"\"\n",
        "    Analyze and plot the properties of images: width, height, mode (color scale)\n",
        "\n",
        "    Parameters:\n",
        "    img_paths (list): A list of paths to the images.\n",
        "\n",
        "    \"\"\"\n",
        "    widths = []\n",
        "    heights = []\n",
        "    modes = []\n",
        "\n",
        "    for path in img_paths:\n",
        "        with Image.open(path) as img:\n",
        "            width, height = img.size\n",
        "            widths.append(width)\n",
        "            heights.append(height)\n",
        "            modes.append(img.mode)\n",
        "\n",
        "    # Plotting\n",
        "    plt.figure(figsize=(10, 4))\n",
        "\n",
        "    plt.subplot(1, 3, 1)\n",
        "    plt.hist(widths, bins=20)\n",
        "    plt.title('Image Widths')\n",
        "\n",
        "    plt.subplot(1, 3, 2)\n",
        "    plt.hist(heights, bins=20)\n",
        "    plt.title('Image Heights')\n",
        "\n",
        "    plt.subplot(1, 3, 3)\n",
        "    plt.hist(modes, bins=20)\n",
        "    plt.title('Image Modes')\n",
        "\n",
        "    plt.tight_layout()\n",
        "    plt.show()\n"
      ],
      "metadata": {
        "id": "DdcfrJ2XucYG"
      },
      "execution_count": null,
      "outputs": []
    },
    {
      "cell_type": "code",
      "source": [
        "def text_length_distribution(texts):\n",
        "    \"\"\"\n",
        "    Analyze and plot the length distribution of texts\n",
        "\n",
        "    Parameters:\n",
        "    texts (list): A list of texts.\n",
        "\n",
        "    \"\"\"\n",
        "    lengths = [len(text) for text in texts]\n",
        "\n",
        "    pd.Series(lengths).hist(bins=20)\n",
        "    plt.title('Text Length Distribution')\n",
        "    plt.xlabel('Length')\n",
        "    plt.ylabel('Frequency')\n",
        "    plt.show()\n"
      ],
      "metadata": {
        "id": "UG4sSMHduhDM"
      },
      "execution_count": null,
      "outputs": []
    },
    {
      "cell_type": "code",
      "source": [
        "def image_quality(img_paths):\n",
        "    \"\"\"\n",
        "    Analyze and plot the average pixel intensity (brightness) of images\n",
        "\n",
        "    Parameters:\n",
        "    img_paths (list): A list of paths to the images.\n",
        "\n",
        "    \"\"\"\n",
        "    avg_intensities = []\n",
        "\n",
        "    for path in img_paths:\n",
        "        with Image.open(path) as img:\n",
        "            img_gray = img.convert(\"L\")  # convert image to grayscale\n",
        "            avg_intensity = np.array(img_gray).mean()\n",
        "            avg_intensities.append(avg_intensity)\n",
        "\n",
        "    plt.hist(avg_intensities, bins=20)\n",
        "    plt.title('Image Average Intensity')\n",
        "    plt.xlabel('Average Intensity')\n",
        "    plt.ylabel('Frequency')\n",
        "    plt.show()\n"
      ],
      "metadata": {
        "id": "pQMyzH9Suoog"
      },
      "execution_count": null,
      "outputs": []
    },
    {
      "cell_type": "code",
      "source": [
        "def load_images_from_folder(folder):\n",
        "    \"\"\"\n",
        "    Loads all images from a folder into a list.\n",
        "\n",
        "    Parameters:\n",
        "    folder (str): Path to the folder.\n",
        "\n",
        "    Returns:\n",
        "    list: A list of PIL Image objects.\n",
        "    \"\"\"\n",
        "    img_paths = glob.glob(os.path.join(folder, '*'))\n",
        "    images = [Image.open(img_path) for img_path in img_paths]\n",
        "    return images, img_paths\n",
        "\n",
        "folder = \"/path/to/image/folder\"\n",
        "\n",
        "images, img_paths = load_images_from_folder(folder)\n",
        "\n",
        "image_properties(img_paths)\n",
        "image_quality(img_paths)"
      ],
      "metadata": {
        "id": "M2wcjww7wuYC"
      },
      "execution_count": null,
      "outputs": []
    }
  ]
}